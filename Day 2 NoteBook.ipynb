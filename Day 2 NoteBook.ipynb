{
 "cells": [
  {
   "cell_type": "code",
   "execution_count": 3,
   "metadata": {},
   "outputs": [],
   "source": [
    "#file handling \n",
    "\n",
    "\n",
    "#Create a File \n",
    "\n",
    "\n",
    "file = open('fcs1.txt','w')\n",
    "\n",
    "file.write(\"Hey we are coding along Python Files \\n\")\n",
    "file.write(\"We are completing today File handling\")\n",
    "\n",
    "file.close()\n",
    "\n"
   ]
  },
  {
   "cell_type": "code",
   "execution_count": 4,
   "metadata": {},
   "outputs": [
    {
     "name": "stdout",
     "output_type": "stream",
     "text": [
      "Hey we are coding along Python Files \n",
      "We are completing today File handling\n"
     ]
    }
   ],
   "source": [
    "# Open a file and print the output \n",
    "\n",
    "file = open('fcs.txt','r')\n",
    "\n",
    "data = file.read()\n",
    "\n",
    "print(data)\n",
    "\n",
    "file.close()"
   ]
  },
  {
   "cell_type": "code",
   "execution_count": 9,
   "metadata": {},
   "outputs": [],
   "source": [
    "# Append a file and print it \n",
    "\n",
    "file = open('fcs.txt','a')\n",
    "\n",
    "file.write(\"\\n LetsUpgrade\")\n",
    "\n",
    "file.close()"
   ]
  },
  {
   "cell_type": "code",
   "execution_count": 11,
   "metadata": {},
   "outputs": [
    {
     "name": "stdout",
     "output_type": "stream",
     "text": [
      "Hey we are coding along Python Files \n",
      "We are completing today File handling\n",
      " here we have appended the data\n",
      " here we have appended the data\n",
      " sai\n",
      " LetsUpgrade\n"
     ]
    }
   ],
   "source": [
    "with open(\"fcs.txt\") as file:  \n",
    "    data = file.read() \n",
    "    print(data)\n"
   ]
  },
  {
   "cell_type": "code",
   "execution_count": 14,
   "metadata": {},
   "outputs": [
    {
     "name": "stdout",
     "output_type": "stream",
     "text": [
      "False\n",
      "True\n",
      "True\n",
      "False\n",
      "True\n",
      "False\n"
     ]
    }
   ],
   "source": [
    "# Operators \n",
    "\n",
    "a = 10 \n",
    "b = 20 \n",
    "print(a==b)\n",
    "print(a!=b)\n",
    "print(a<b)\n",
    "print(a>b)\n",
    "print(a<=b)\n",
    "print(a>=b)"
   ]
  },
  {
   "cell_type": "code",
   "execution_count": 15,
   "metadata": {},
   "outputs": [
    {
     "name": "stdout",
     "output_type": "stream",
     "text": [
      "False\n"
     ]
    }
   ],
   "source": [
    "# Logical Comperison Operators - \n",
    "\n",
    "#AND, OR, NOT \n",
    "\n",
    "#AND \n",
    "\n",
    "a = 10 \n",
    "b = 9 \n",
    "c = 8 \n",
    "\n",
    "print ( a > b and a < c)\n",
    "\n",
    "#in and both the condistions should be true "
   ]
  },
  {
   "cell_type": "code",
   "execution_count": 16,
   "metadata": {},
   "outputs": [
    {
     "name": "stdout",
     "output_type": "stream",
     "text": [
      "True\n"
     ]
    }
   ],
   "source": [
    "# Logical Comperison Operators - \n",
    "\n",
    "#OR \n",
    "\n",
    "a = 10 \n",
    "b = 9 \n",
    "c = 8 \n",
    "\n",
    "print ( a > b or a < c)\n",
    "\n",
    "#in OR any one of the condistions should be true "
   ]
  },
  {
   "cell_type": "code",
   "execution_count": 19,
   "metadata": {},
   "outputs": [
    {
     "name": "stdout",
     "output_type": "stream",
     "text": [
      "False\n",
      "True\n"
     ]
    }
   ],
   "source": [
    "# Logical Comperison Operators - \n",
    "\n",
    "#NOT \n",
    "\n",
    "a = 10 \n",
    "b = 9 \n",
    "c = 8 \n",
    "\n",
    "data = a > b and a < c\n",
    "print ( data )\n",
    "print ( not data)\n",
    "\n",
    "#in and both the condistions should be true "
   ]
  },
  {
   "cell_type": "code",
   "execution_count": 23,
   "metadata": {},
   "outputs": [
    {
     "name": "stdout",
     "output_type": "stream",
     "text": [
      "Sai will not teach\n",
      "ok we are inside one\n"
     ]
    }
   ],
   "source": [
    "# IF ELIF Else\n",
    "\n",
    "students = \"not live\"\n",
    "a = 1 \n",
    "\n",
    "if(students == \"live\"):\n",
    "    print(\"Sai will teach\")\n",
    "    print(\"sai will teach again\")\n",
    "    \n",
    "elif (students == \"not live\"):\n",
    "    print(\"Sai will not teach\")\n",
    "    if (a == 1):\n",
    "        print('ok we are inside one')\n",
    "    \n",
    "else:\n",
    "    print(\"Sai is lost\")\n",
    "    "
   ]
  },
  {
   "cell_type": "code",
   "execution_count": 24,
   "metadata": {},
   "outputs": [
    {
     "name": "stdout",
     "output_type": "stream",
     "text": [
      "Enter something - GreatGoing\n",
      "GreatGoing\n"
     ]
    }
   ],
   "source": [
    "value = input(\"Enter something - \")\n",
    "\n",
    "print(value)"
   ]
  },
  {
   "cell_type": "code",
   "execution_count": 28,
   "metadata": {},
   "outputs": [
    {
     "name": "stdout",
     "output_type": "stream",
     "text": [
      "1\n",
      "2\n",
      "3\n",
      "4\n",
      "5\n",
      "6\n",
      "7\n",
      "8\n",
      "9\n",
      "sai\n"
     ]
    }
   ],
   "source": [
    "# Loops - \n",
    "\n",
    "\n",
    "lst = [1,2,3,4,5,6,7,8,9,\"sai\"]\n",
    "\n",
    "for item in lst:\n",
    "    print(item)"
   ]
  },
  {
   "cell_type": "code",
   "execution_count": 27,
   "metadata": {},
   "outputs": [
    {
     "name": "stdout",
     "output_type": "stream",
     "text": [
      "H\n",
      "e\n",
      "y\n",
      " \n",
      "g\n",
      "u\n",
      "y\n",
      "s\n",
      ",\n",
      " \n",
      "I\n",
      " \n",
      "w\n",
      "a\n",
      "n\n",
      "t\n",
      " \n",
      "t\n",
      "o\n",
      " \n",
      "m\n",
      "e\n",
      "e\n",
      "t\n",
      " \n",
      "y\n",
      "o\n",
      "u\n",
      " \n",
      "a\n",
      "l\n",
      "l\n",
      " \n",
      "a\n",
      "n\n",
      "d\n",
      " \n",
      "t\n",
      "e\n",
      "a\n",
      "c\n",
      "h\n"
     ]
    }
   ],
   "source": [
    "string = \"Hey guys, I want to meet you all and teach\"\n",
    "\n",
    "for item in string:\n",
    "    print(item)"
   ]
  },
  {
   "cell_type": "code",
   "execution_count": 33,
   "metadata": {},
   "outputs": [
    {
     "name": "stdout",
     "output_type": "stream",
     "text": [
      "1\n",
      "2\n",
      "3\n",
      "4\n",
      "5\n",
      "6\n",
      "7\n",
      "8\n",
      "9\n"
     ]
    }
   ],
   "source": [
    "a = 1\n",
    "\n",
    "while(a < 10 ):\n",
    "    print(a)\n",
    "#     a = a + 1 \n",
    "    \n",
    "    a += 1\n"
   ]
  },
  {
   "cell_type": "code",
   "execution_count": 34,
   "metadata": {},
   "outputs": [
    {
     "name": "stdout",
     "output_type": "stream",
     "text": [
      "Hey we are coding along Python Files \n",
      "We are completing today File handling\n",
      " here we have appended the data\n",
      " here we have appended the data\n",
      " sai\n",
      " LetsUpgrade\n"
     ]
    }
   ],
   "source": [
    "# Python code to illustrate with()\n",
    "\n",
    "with open(\"fcs.txt\") as file:  \n",
    "    data = file.read() \n",
    "    print(data)\n",
    "\n",
    "    # do something with data \n"
   ]
  },
  {
   "cell_type": "code",
   "execution_count": 35,
   "metadata": {},
   "outputs": [
    {
     "name": "stdout",
     "output_type": "stream",
     "text": [
      "Hey we are coding along Python Files \n",
      "We are completing today File handling\n",
      " here we have appended the data\n",
      " here we have appended the data\n",
      " sai\n",
      " LetsUpgrade\n"
     ]
    }
   ],
   "source": [
    "file = open('fcs.txt','r')\n",
    "\n",
    "print(file.read())\n",
    "\n",
    "file.close()"
   ]
  },
  {
   "cell_type": "code",
   "execution_count": 42,
   "metadata": {},
   "outputs": [
    {
     "name": "stdout",
     "output_type": "stream",
     "text": [
      "['Hey we are coding along Python Files \\n', 'We are completing today File handling\\n', ' here we have appended the data\\n', ' here we have appended the data\\n', ' sai\\n', ' LetsUpgrade']\n",
      "\n",
      "\n",
      "\n",
      "\n",
      "['Hey', 'we', 'are', 'coding', 'along', 'Python', 'Files']\n",
      "['We', 'are', 'completing', 'today', 'File', 'handling']\n",
      "['here', 'we', 'have', 'appended', 'the', 'data']\n",
      "['here', 'we', 'have', 'appended', 'the', 'data']\n",
      "['sai']\n",
      "['LetsUpgrade']\n"
     ]
    }
   ],
   "source": [
    "with open(\"fcs.txt\", \"r\") as file: \n",
    "    data = file.readlines() \n",
    "    print(data)\n",
    "        \n",
    "print(\"\\n\")\n",
    "print(\"\\n\")\n",
    "    \n",
    "for line in data:\n",
    "    word = line.split() \n",
    "    print(word)"
   ]
  },
  {
   "cell_type": "code",
   "execution_count": null,
   "metadata": {},
   "outputs": [],
   "source": []
  }
 ],
 "metadata": {
  "kernelspec": {
   "display_name": "Python 3",
   "language": "python",
   "name": "python3"
  },
  "language_info": {
   "codemirror_mode": {
    "name": "ipython",
    "version": 3
   },
   "file_extension": ".py",
   "mimetype": "text/x-python",
   "name": "python",
   "nbconvert_exporter": "python",
   "pygments_lexer": "ipython3",
   "version": "3.7.4"
  }
 },
 "nbformat": 4,
 "nbformat_minor": 2
}
